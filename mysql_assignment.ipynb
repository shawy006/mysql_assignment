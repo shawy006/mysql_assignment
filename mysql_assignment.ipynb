{
 "cells": [
  {
   "cell_type": "code",
   "execution_count": 2,
   "id": "d7bc3336",
   "metadata": {},
   "outputs": [],
   "source": [
    "# Database : Any collection of related information is called database\n",
    "#                           SQL                                                 NOSQL\n",
    "# These databases have fixed or static or predefined schema          They have dynamic schema\n",
    "# These databases are not suited for hierarchical data storage.      Best suited for hierarchical data storage.\n",
    "# These databases are best suited for complex queries                These databases are not so good for complex queries\n",
    "# Vertically Scalable                                                Horizontally scalable\n",
    "# Follows ACID property                                          Follows CAP(consistency, availability, partition tolerance)\n",
    "#eg:- Mysql, postgreSql, mariadb,oracle                             eg:- mongodb, dynamicdb, apache cassandra.\n"
   ]
  },
  {
   "cell_type": "code",
   "execution_count": 10,
   "id": "c673dd99",
   "metadata": {},
   "outputs": [],
   "source": [
    "# DDL- Data defination language.  \n",
    "# create- create a table.     syntax:- create table table_name;\n",
    "# drop - removing/delete a table from database.    syntax:- drop table table_name;\n",
    "# alter - altering a table(add column,rename column,rename table).    syntax:- alter table table_name add column col_name datatype;\n",
    "# truncate - remove all (records) from table permanently.    syntax: truncate table table_name;"
   ]
  },
  {
   "cell_type": "code",
   "execution_count": 11,
   "id": "0b93cb89",
   "metadata": {},
   "outputs": [],
   "source": [
    "# DML- Data manipulation language.  \n",
    "# insert- insert row/rows in a table.     syntax:- insert into table_name (col1,col2..)  values (val1,val2..);\n",
    "# update - update the value inside the specific location in table.    syntax:- update table_name set col_name='xyz'  condition;\n",
    "# delete - delete the row/rows.    syntax:- delete from table_name condition;\n"
   ]
  },
  {
   "cell_type": "code",
   "execution_count": 12,
   "id": "4ccb7423",
   "metadata": {},
   "outputs": [],
   "source": [
    "# DQL- Data Query Language\n",
    "# select- selecting the column/columns of table.    syntax:- select col1,col2,.... from table_name;"
   ]
  },
  {
   "cell_type": "code",
   "execution_count": 14,
   "id": "4519a199",
   "metadata": {},
   "outputs": [],
   "source": [
    "# primary key- It is a column which is used to uniquely identifies each rows in a table. Each table can't have more than 1 primary key.It can't be NULL. \n",
    "# Foreign key- It is column/columns which is used to maintain relationship between tables. A table can have more than 1 foreign key.It can accept NULL values."
   ]
  },
  {
   "cell_type": "code",
   "execution_count": 15,
   "id": "035d4a1d",
   "metadata": {},
   "outputs": [],
   "source": [
    "# import mysql.connector\n",
    "# mydb=mysql.connector.connect(host='localhost',user='root',password='177#Lord@108',database='india_in_a_nutshell')\n",
    "# mycursor=mydb.cursor()\n",
    "# mycursor.execute(\"SHOW DATABASE;\")\n",
    "# for i in mycursor.fetchall():\n",
    "#     print(i)\n",
    "\n",
    "# mydb.close()\n",
    "\n",
    "\n",
    "# cursor():- It is an object that is used to make the connection for executing sql queries, it is created after giving connection to sql database.\n",
    "# execute(): It is used to run the sql queries inside the string, it is function inside cursor."
   ]
  },
  {
   "cell_type": "code",
   "execution_count": 16,
   "id": "b0fd3cba",
   "metadata": {},
   "outputs": [],
   "source": [
    "# order of execution of SQL clauses :- from, where, group by, having, select, order by, limit"
   ]
  },
  {
   "cell_type": "code",
   "execution_count": null,
   "id": "f0ec8b3c",
   "metadata": {},
   "outputs": [],
   "source": []
  }
 ],
 "metadata": {
  "kernelspec": {
   "display_name": "Python 3 (ipykernel)",
   "language": "python",
   "name": "python3"
  },
  "language_info": {
   "codemirror_mode": {
    "name": "ipython",
    "version": 3
   },
   "file_extension": ".py",
   "mimetype": "text/x-python",
   "name": "python",
   "nbconvert_exporter": "python",
   "pygments_lexer": "ipython3",
   "version": "3.9.13"
  }
 },
 "nbformat": 4,
 "nbformat_minor": 5
}
